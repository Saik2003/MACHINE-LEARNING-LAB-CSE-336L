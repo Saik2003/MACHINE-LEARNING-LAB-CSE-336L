{
 "cells": [
  {
   "cell_type": "code",
   "execution_count": 1,
   "id": "df8abae1",
   "metadata": {},
   "outputs": [],
   "source": [
    "# Importing modules\n",
    "import numpy as np\n",
    "import pandas as pd"
   ]
  },
  {
   "cell_type": "code",
   "execution_count": 2,
   "id": "ed5cf6ee",
   "metadata": {},
   "outputs": [],
   "source": [
    "# Q1\n",
    "#Write a Pandas program to convert Series of lists to one Series."
   ]
  },
  {
   "cell_type": "code",
   "execution_count": 3,
   "id": "01d56506",
   "metadata": {},
   "outputs": [],
   "source": [
    "arr1=[2,3,43,46,99]\n",
    "Ser=pd.Series(arr1)"
   ]
  },
  {
   "cell_type": "code",
   "execution_count": 4,
   "id": "446c99fc",
   "metadata": {},
   "outputs": [
    {
     "data": {
      "text/plain": [
       "pandas.core.series.Series"
      ]
     },
     "execution_count": 4,
     "metadata": {},
     "output_type": "execute_result"
    }
   ],
   "source": [
    "type(Ser) # List changed to Series"
   ]
  },
  {
   "cell_type": "code",
   "execution_count": 5,
   "id": "cc2d68f8",
   "metadata": {},
   "outputs": [],
   "source": [
    "arr2=[[1,2,33],[88,67,54,99]]\n",
    "Ser1=pd.Series(arr2)"
   ]
  },
  {
   "cell_type": "code",
   "execution_count": 6,
   "id": "f0556ccc",
   "metadata": {},
   "outputs": [
    {
     "data": {
      "text/plain": [
       "pandas.core.series.Series"
      ]
     },
     "execution_count": 6,
     "metadata": {},
     "output_type": "execute_result"
    }
   ],
   "source": [
    "type(Ser1) #Series of lists changed to Series type"
   ]
  },
  {
   "cell_type": "code",
   "execution_count": 7,
   "id": "e7f82498",
   "metadata": {},
   "outputs": [
    {
     "data": {
      "text/plain": [
       "0          [1, 2, 33]\n",
       "1    [88, 67, 54, 99]\n",
       "dtype: object"
      ]
     },
     "execution_count": 7,
     "metadata": {},
     "output_type": "execute_result"
    }
   ],
   "source": [
    "Ser1"
   ]
  },
  {
   "cell_type": "code",
   "execution_count": 8,
   "id": "14af0610",
   "metadata": {},
   "outputs": [],
   "source": [
    "# Q2 \n",
    "#Write a Pandas program to create a subset of a given series based on value and condition."
   ]
  },
  {
   "cell_type": "code",
   "execution_count": 9,
   "id": "422aabe6",
   "metadata": {},
   "outputs": [
    {
     "name": "stdout",
     "output_type": "stream",
     "text": [
      "1     720\n",
      "2    9630\n",
      "3     440\n",
      "dtype: int64\n",
      "0    109\n",
      "3    440\n",
      "4    250\n",
      "dtype: int64\n"
     ]
    }
   ],
   "source": [
    "df = pd.Series([109, 720, 9630, 440, 250])\n",
    "subset = df[df>=440]\n",
    "subset2=df[df<=630]\n",
    "print(subset)\n",
    "print(subset2)"
   ]
  },
  {
   "cell_type": "code",
   "execution_count": 10,
   "id": "aba0aa4d",
   "metadata": {},
   "outputs": [],
   "source": [
    "#Q3\n",
    "#Write a Pandas program to display most frequent value in a given series and replace everything else as Other in the series."
   ]
  },
  {
   "cell_type": "code",
   "execution_count": 11,
   "id": "4c98dad5",
   "metadata": {},
   "outputs": [
    {
     "name": "stdout",
     "output_type": "stream",
     "text": [
      "Series after replacing other values with 'Other':\n",
      "0    Other\n",
      "1    Other\n",
      "2    Other\n",
      "3    Other\n",
      "4    Other\n",
      "5    Other\n",
      "6        4\n",
      "7        4\n",
      "8        4\n",
      "9        4\n",
      "dtype: object\n"
     ]
    }
   ],
   "source": [
    "data = [1, 2, 2, 3, 3, 3, 4, 4, 4, 4]\n",
    "series = pd.Series(data)\n",
    "\n",
    "series.value_counts()\n",
    "\n",
    "series[~series.isin(series.value_counts() .index[:1])] = 'Other'\n",
    "print(\"Series after replacing other values with 'Other':\")\n",
    "print(series)"
   ]
  },
  {
   "cell_type": "code",
   "execution_count": null,
   "id": "87ce35b4",
   "metadata": {},
   "outputs": [],
   "source": [
    "#Q4 Write a Pandas program to find the positions of numbers that are multiples of 5 of a given series."
   ]
  },
  {
   "cell_type": "code",
   "execution_count": null,
   "id": "158ae663",
   "metadata": {},
   "outputs": [
    {
     "name": "stdout",
     "output_type": "stream",
     "text": [
      "Int64Index([0, 1, 2, 3, 4, 5, 6, 7, 8, 9], dtype='int64')\n"
     ]
    }
   ],
   "source": [
    "a=[x*5 for x in range(1,11)]\n",
    "a=pd.Series(a)\n",
    "pos = a[a % 5 == 0].index\n",
    "print(pos)"
   ]
  },
  {
   "cell_type": "code",
   "execution_count": null,
   "id": "c5d73ea9",
   "metadata": {},
   "outputs": [],
   "source": [
    "#Q5 Write a Pandas program to calculate the number of characters in each word in a given series."
   ]
  },
  {
   "cell_type": "code",
   "execution_count": null,
   "id": "2c1380f2",
   "metadata": {},
   "outputs": [],
   "source": [
    "carr=['saikumar','rishabh','venkatesh']\n",
    "carr=pd.Series(carr)"
   ]
  },
  {
   "cell_type": "code",
   "execution_count": null,
   "id": "cd3ed0b2",
   "metadata": {},
   "outputs": [
    {
     "name": "stdout",
     "output_type": "stream",
     "text": [
      "0    8\n",
      "1    7\n",
      "2    9\n",
      "dtype: int64\n"
     ]
    }
   ],
   "source": [
    "word_lengths = carr.apply(lambda i: len(i))\n",
    "print(word_lengths)"
   ]
  },
  {
   "cell_type": "code",
   "execution_count": null,
   "id": "4fb7b2d6",
   "metadata": {},
   "outputs": [],
   "source": [
    "#Q7 Write a Pandas program to create and display a DataFrame from a specified dictionary data which has the index labels."
   ]
  },
  {
   "cell_type": "code",
   "execution_count": null,
   "id": "18988498",
   "metadata": {},
   "outputs": [],
   "source": [
    "data = {\n",
    "    'Name': ['sai', 'rishabh', 'krishna', 'sharma'],\n",
    "    'Age': [25, 30, 22, 28],\n",
    "    'City': ['Guntur', 'Gurgoan', 'Delhi', 'Mumbai']\n",
    "}"
   ]
  },
  {
   "cell_type": "code",
   "execution_count": null,
   "id": "38cea2d6",
   "metadata": {},
   "outputs": [],
   "source": [
    "ilabels = ['Person1', 'Person2', 'Person3', 'Person4']\n",
    "df11 = pd.DataFrame(data, index=ilabels)"
   ]
  },
  {
   "cell_type": "code",
   "execution_count": null,
   "id": "b662876e",
   "metadata": {},
   "outputs": [
    {
     "data": {
      "text/html": [
       "<div>\n",
       "<style scoped>\n",
       "    .dataframe tbody tr th:only-of-type {\n",
       "        vertical-align: middle;\n",
       "    }\n",
       "\n",
       "    .dataframe tbody tr th {\n",
       "        vertical-align: top;\n",
       "    }\n",
       "\n",
       "    .dataframe thead th {\n",
       "        text-align: right;\n",
       "    }\n",
       "</style>\n",
       "<table border=\"1\" class=\"dataframe\">\n",
       "  <thead>\n",
       "    <tr style=\"text-align: right;\">\n",
       "      <th></th>\n",
       "      <th>Name</th>\n",
       "      <th>Age</th>\n",
       "      <th>City</th>\n",
       "    </tr>\n",
       "  </thead>\n",
       "  <tbody>\n",
       "    <tr>\n",
       "      <th>Person1</th>\n",
       "      <td>sai</td>\n",
       "      <td>25</td>\n",
       "      <td>Guntur</td>\n",
       "    </tr>\n",
       "    <tr>\n",
       "      <th>Person2</th>\n",
       "      <td>rishabh</td>\n",
       "      <td>30</td>\n",
       "      <td>Gurgoan</td>\n",
       "    </tr>\n",
       "    <tr>\n",
       "      <th>Person3</th>\n",
       "      <td>krishna</td>\n",
       "      <td>22</td>\n",
       "      <td>Delhi</td>\n",
       "    </tr>\n",
       "    <tr>\n",
       "      <th>Person4</th>\n",
       "      <td>sharma</td>\n",
       "      <td>28</td>\n",
       "      <td>Mumbai</td>\n",
       "    </tr>\n",
       "  </tbody>\n",
       "</table>\n",
       "</div>"
      ],
      "text/plain": [
       "            Name  Age     City\n",
       "Person1      sai   25   Guntur\n",
       "Person2  rishabh   30  Gurgoan\n",
       "Person3  krishna   22    Delhi\n",
       "Person4   sharma   28   Mumbai"
      ]
     },
     "execution_count": 198,
     "metadata": {},
     "output_type": "execute_result"
    }
   ],
   "source": [
    "df11"
   ]
  },
  {
   "cell_type": "code",
   "execution_count": null,
   "id": "afe358c8",
   "metadata": {},
   "outputs": [],
   "source": [
    "#Q8 Write a Pandas program to select the rows where the number of attempts in the examination is greater than 2.\n",
    "att={\n",
    "    'Name':['sai','venkatesh','Munna'],\n",
    "    'attempts':[2,5,4]\n",
    "}\n",
    "att1=pd.DataFrame(att)"
   ]
  },
  {
   "cell_type": "code",
   "execution_count": null,
   "id": "9814dfb8",
   "metadata": {},
   "outputs": [
    {
     "data": {
      "text/html": [
       "<div>\n",
       "<style scoped>\n",
       "    .dataframe tbody tr th:only-of-type {\n",
       "        vertical-align: middle;\n",
       "    }\n",
       "\n",
       "    .dataframe tbody tr th {\n",
       "        vertical-align: top;\n",
       "    }\n",
       "\n",
       "    .dataframe thead th {\n",
       "        text-align: right;\n",
       "    }\n",
       "</style>\n",
       "<table border=\"1\" class=\"dataframe\">\n",
       "  <thead>\n",
       "    <tr style=\"text-align: right;\">\n",
       "      <th></th>\n",
       "      <th>Name</th>\n",
       "      <th>attempts</th>\n",
       "    </tr>\n",
       "  </thead>\n",
       "  <tbody>\n",
       "    <tr>\n",
       "      <th>1</th>\n",
       "      <td>venkatesh</td>\n",
       "      <td>5</td>\n",
       "    </tr>\n",
       "    <tr>\n",
       "      <th>2</th>\n",
       "      <td>Munna</td>\n",
       "      <td>4</td>\n",
       "    </tr>\n",
       "  </tbody>\n",
       "</table>\n",
       "</div>"
      ],
      "text/plain": [
       "        Name  attempts\n",
       "1  venkatesh         5\n",
       "2      Munna         4"
      ]
     },
     "execution_count": 200,
     "metadata": {},
     "output_type": "execute_result"
    }
   ],
   "source": [
    "att1[att1['attempts']>2]"
   ]
  },
  {
   "cell_type": "code",
   "execution_count": null,
   "id": "99836bda",
   "metadata": {},
   "outputs": [],
   "source": [
    "#Q9 Write a Pandas program to append a new row 'k' to data frame with given values for each column. \n",
    "#Now delete the new row and return the original DataFrame."
   ]
  },
  {
   "cell_type": "code",
   "execution_count": null,
   "id": "51ab89ff",
   "metadata": {},
   "outputs": [],
   "source": [
    "dff={\n",
    "    'Name':['sai','koushik','Akshat'],\n",
    "    'section':['o','e','c']\n",
    "}\n",
    "index_labels = ['Student1', 'Student2','Student3']\n",
    "dff=pd.DataFrame(dff,index=index_labels)"
   ]
  },
  {
   "cell_type": "code",
   "execution_count": null,
   "id": "b5af230e",
   "metadata": {},
   "outputs": [
    {
     "data": {
      "text/html": [
       "<div>\n",
       "<style scoped>\n",
       "    .dataframe tbody tr th:only-of-type {\n",
       "        vertical-align: middle;\n",
       "    }\n",
       "\n",
       "    .dataframe tbody tr th {\n",
       "        vertical-align: top;\n",
       "    }\n",
       "\n",
       "    .dataframe thead th {\n",
       "        text-align: right;\n",
       "    }\n",
       "</style>\n",
       "<table border=\"1\" class=\"dataframe\">\n",
       "  <thead>\n",
       "    <tr style=\"text-align: right;\">\n",
       "      <th></th>\n",
       "      <th>Name</th>\n",
       "      <th>section</th>\n",
       "    </tr>\n",
       "  </thead>\n",
       "  <tbody>\n",
       "    <tr>\n",
       "      <th>Student1</th>\n",
       "      <td>sai</td>\n",
       "      <td>o</td>\n",
       "    </tr>\n",
       "    <tr>\n",
       "      <th>Student2</th>\n",
       "      <td>koushik</td>\n",
       "      <td>e</td>\n",
       "    </tr>\n",
       "    <tr>\n",
       "      <th>Student3</th>\n",
       "      <td>Akshat</td>\n",
       "      <td>c</td>\n",
       "    </tr>\n",
       "  </tbody>\n",
       "</table>\n",
       "</div>"
      ],
      "text/plain": [
       "             Name section\n",
       "Student1      sai       o\n",
       "Student2  koushik       e\n",
       "Student3   Akshat       c"
      ]
     },
     "execution_count": 203,
     "metadata": {},
     "output_type": "execute_result"
    }
   ],
   "source": [
    "dff"
   ]
  },
  {
   "cell_type": "code",
   "execution_count": null,
   "id": "bbb76637",
   "metadata": {},
   "outputs": [],
   "source": [
    "dff2 = {\n",
    "  \"Name\": ['anil','sanjay'],\n",
    "  \"section\": ['f', 'j']\n",
    "}\n",
    "dff3=pd.DataFrame(dff2,index=['Student4','Student5'])"
   ]
  },
  {
   "cell_type": "code",
   "execution_count": null,
   "id": "8f26a280",
   "metadata": {},
   "outputs": [
    {
     "name": "stderr",
     "output_type": "stream",
     "text": [
      "C:\\Users\\91868\\AppData\\Local\\Temp\\ipykernel_18136\\1495316004.py:1: FutureWarning: The frame.append method is deprecated and will be removed from pandas in a future version. Use pandas.concat instead.\n",
      "  dff1=dff.append(dff3)\n"
     ]
    },
    {
     "data": {
      "text/html": [
       "<div>\n",
       "<style scoped>\n",
       "    .dataframe tbody tr th:only-of-type {\n",
       "        vertical-align: middle;\n",
       "    }\n",
       "\n",
       "    .dataframe tbody tr th {\n",
       "        vertical-align: top;\n",
       "    }\n",
       "\n",
       "    .dataframe thead th {\n",
       "        text-align: right;\n",
       "    }\n",
       "</style>\n",
       "<table border=\"1\" class=\"dataframe\">\n",
       "  <thead>\n",
       "    <tr style=\"text-align: right;\">\n",
       "      <th></th>\n",
       "      <th>Name</th>\n",
       "      <th>section</th>\n",
       "    </tr>\n",
       "  </thead>\n",
       "  <tbody>\n",
       "    <tr>\n",
       "      <th>Student1</th>\n",
       "      <td>sai</td>\n",
       "      <td>o</td>\n",
       "    </tr>\n",
       "    <tr>\n",
       "      <th>Student2</th>\n",
       "      <td>koushik</td>\n",
       "      <td>e</td>\n",
       "    </tr>\n",
       "    <tr>\n",
       "      <th>Student3</th>\n",
       "      <td>Akshat</td>\n",
       "      <td>c</td>\n",
       "    </tr>\n",
       "    <tr>\n",
       "      <th>Student4</th>\n",
       "      <td>anil</td>\n",
       "      <td>f</td>\n",
       "    </tr>\n",
       "    <tr>\n",
       "      <th>Student5</th>\n",
       "      <td>sanjay</td>\n",
       "      <td>j</td>\n",
       "    </tr>\n",
       "  </tbody>\n",
       "</table>\n",
       "</div>"
      ],
      "text/plain": [
       "             Name section\n",
       "Student1      sai       o\n",
       "Student2  koushik       e\n",
       "Student3   Akshat       c\n",
       "Student4     anil       f\n",
       "Student5   sanjay       j"
      ]
     },
     "execution_count": 205,
     "metadata": {},
     "output_type": "execute_result"
    }
   ],
   "source": [
    "dff1=dff.concat(dff3)\n",
    "dff1"
   ]
  },
  {
   "cell_type": "code",
   "execution_count": null,
   "id": "8dbf3229",
   "metadata": {},
   "outputs": [],
   "source": [
    "dff1=dff1.drop('Student4')"
   ]
  },
  {
   "cell_type": "code",
   "execution_count": null,
   "id": "7611330f",
   "metadata": {},
   "outputs": [
    {
     "data": {
      "text/html": [
       "<div>\n",
       "<style scoped>\n",
       "    .dataframe tbody tr th:only-of-type {\n",
       "        vertical-align: middle;\n",
       "    }\n",
       "\n",
       "    .dataframe tbody tr th {\n",
       "        vertical-align: top;\n",
       "    }\n",
       "\n",
       "    .dataframe thead th {\n",
       "        text-align: right;\n",
       "    }\n",
       "</style>\n",
       "<table border=\"1\" class=\"dataframe\">\n",
       "  <thead>\n",
       "    <tr style=\"text-align: right;\">\n",
       "      <th></th>\n",
       "      <th>Name</th>\n",
       "      <th>section</th>\n",
       "    </tr>\n",
       "  </thead>\n",
       "  <tbody>\n",
       "    <tr>\n",
       "      <th>Student1</th>\n",
       "      <td>sai</td>\n",
       "      <td>o</td>\n",
       "    </tr>\n",
       "    <tr>\n",
       "      <th>Student2</th>\n",
       "      <td>koushik</td>\n",
       "      <td>e</td>\n",
       "    </tr>\n",
       "    <tr>\n",
       "      <th>Student3</th>\n",
       "      <td>Akshat</td>\n",
       "      <td>c</td>\n",
       "    </tr>\n",
       "  </tbody>\n",
       "</table>\n",
       "</div>"
      ],
      "text/plain": [
       "             Name section\n",
       "Student1      sai       o\n",
       "Student2  koushik       e\n",
       "Student3   Akshat       c"
      ]
     },
     "execution_count": 207,
     "metadata": {},
     "output_type": "execute_result"
    }
   ],
   "source": [
    "dff1.drop('Student5')"
   ]
  },
  {
   "cell_type": "code",
   "execution_count": null,
   "id": "5f3c5c82",
   "metadata": {},
   "outputs": [],
   "source": [
    "#Q10 Write a Pandas program to sort the DataFrame first by 'name' in descending order, then by 'score' in ascending order."
   ]
  },
  {
   "cell_type": "code",
   "execution_count": null,
   "id": "0649956d",
   "metadata": {},
   "outputs": [],
   "source": [
    "arrr={\n",
    "    'name':['lakshay','Harshith','Shubam'],\n",
    "    'score': [23,22,24]\n",
    "}\n",
    "df112=pd.DataFrame(arrr)"
   ]
  },
  {
   "cell_type": "code",
   "execution_count": null,
   "id": "e0c476bd",
   "metadata": {},
   "outputs": [
    {
     "data": {
      "text/html": [
       "<div>\n",
       "<style scoped>\n",
       "    .dataframe tbody tr th:only-of-type {\n",
       "        vertical-align: middle;\n",
       "    }\n",
       "\n",
       "    .dataframe tbody tr th {\n",
       "        vertical-align: top;\n",
       "    }\n",
       "\n",
       "    .dataframe thead th {\n",
       "        text-align: right;\n",
       "    }\n",
       "</style>\n",
       "<table border=\"1\" class=\"dataframe\">\n",
       "  <thead>\n",
       "    <tr style=\"text-align: right;\">\n",
       "      <th></th>\n",
       "      <th>name</th>\n",
       "      <th>score</th>\n",
       "    </tr>\n",
       "  </thead>\n",
       "  <tbody>\n",
       "    <tr>\n",
       "      <th>1</th>\n",
       "      <td>Harshith</td>\n",
       "      <td>22</td>\n",
       "    </tr>\n",
       "    <tr>\n",
       "      <th>0</th>\n",
       "      <td>lakshay</td>\n",
       "      <td>23</td>\n",
       "    </tr>\n",
       "    <tr>\n",
       "      <th>2</th>\n",
       "      <td>Shubam</td>\n",
       "      <td>24</td>\n",
       "    </tr>\n",
       "  </tbody>\n",
       "</table>\n",
       "</div>"
      ],
      "text/plain": [
       "       name  score\n",
       "1  Harshith     22\n",
       "0   lakshay     23\n",
       "2    Shubam     24"
      ]
     },
     "execution_count": 210,
     "metadata": {},
     "output_type": "execute_result"
    }
   ],
   "source": [
    "newdf = df112.sort_values(by='score',ascending=True)\n",
    "newdf"
   ]
  },
  {
   "cell_type": "code",
   "execution_count": null,
   "id": "f51ff9ee",
   "metadata": {},
   "outputs": [
    {
     "data": {
      "text/html": [
       "<div>\n",
       "<style scoped>\n",
       "    .dataframe tbody tr th:only-of-type {\n",
       "        vertical-align: middle;\n",
       "    }\n",
       "\n",
       "    .dataframe tbody tr th {\n",
       "        vertical-align: top;\n",
       "    }\n",
       "\n",
       "    .dataframe thead th {\n",
       "        text-align: right;\n",
       "    }\n",
       "</style>\n",
       "<table border=\"1\" class=\"dataframe\">\n",
       "  <thead>\n",
       "    <tr style=\"text-align: right;\">\n",
       "      <th></th>\n",
       "      <th>name</th>\n",
       "      <th>score</th>\n",
       "    </tr>\n",
       "  </thead>\n",
       "  <tbody>\n",
       "    <tr>\n",
       "      <th>0</th>\n",
       "      <td>lakshay</td>\n",
       "      <td>23</td>\n",
       "    </tr>\n",
       "    <tr>\n",
       "      <th>2</th>\n",
       "      <td>Shubam</td>\n",
       "      <td>24</td>\n",
       "    </tr>\n",
       "    <tr>\n",
       "      <th>1</th>\n",
       "      <td>Harshith</td>\n",
       "      <td>22</td>\n",
       "    </tr>\n",
       "  </tbody>\n",
       "</table>\n",
       "</div>"
      ],
      "text/plain": [
       "       name  score\n",
       "0   lakshay     23\n",
       "2    Shubam     24\n",
       "1  Harshith     22"
      ]
     },
     "execution_count": 211,
     "metadata": {},
     "output_type": "execute_result"
    }
   ],
   "source": [
    "newdf2=df112.sort_values(by='name',ascending=False)\n",
    "newdf2"
   ]
  },
  {
   "cell_type": "code",
   "execution_count": null,
   "id": "9fb0328d",
   "metadata": {},
   "outputs": [],
   "source": [
    "#Q11 Write a Pandas program to replace the 'qualify' column contains the values 'yes' and 'no'with True and False."
   ]
  },
  {
   "cell_type": "code",
   "execution_count": null,
   "id": "23a1dbb4",
   "metadata": {},
   "outputs": [],
   "source": [
    "nd={\n",
    "    'candidate':['bob','Alice','stephen'],\n",
    "    'qualify':['Yes','No','No']\n",
    "}\n",
    "nnd=pd.DataFrame(nd)"
   ]
  },
  {
   "cell_type": "code",
   "execution_count": null,
   "id": "51225932",
   "metadata": {},
   "outputs": [],
   "source": [
    "nnd=nnd.replace('Yes',True)\n",
    "nnd=nnd.replace('No',False)"
   ]
  },
  {
   "cell_type": "code",
   "execution_count": null,
   "id": "168a30cf",
   "metadata": {},
   "outputs": [
    {
     "data": {
      "text/html": [
       "<div>\n",
       "<style scoped>\n",
       "    .dataframe tbody tr th:only-of-type {\n",
       "        vertical-align: middle;\n",
       "    }\n",
       "\n",
       "    .dataframe tbody tr th {\n",
       "        vertical-align: top;\n",
       "    }\n",
       "\n",
       "    .dataframe thead th {\n",
       "        text-align: right;\n",
       "    }\n",
       "</style>\n",
       "<table border=\"1\" class=\"dataframe\">\n",
       "  <thead>\n",
       "    <tr style=\"text-align: right;\">\n",
       "      <th></th>\n",
       "      <th>candidate</th>\n",
       "      <th>qualify</th>\n",
       "    </tr>\n",
       "  </thead>\n",
       "  <tbody>\n",
       "    <tr>\n",
       "      <th>0</th>\n",
       "      <td>bob</td>\n",
       "      <td>True</td>\n",
       "    </tr>\n",
       "    <tr>\n",
       "      <th>1</th>\n",
       "      <td>Alice</td>\n",
       "      <td>False</td>\n",
       "    </tr>\n",
       "    <tr>\n",
       "      <th>2</th>\n",
       "      <td>stephen</td>\n",
       "      <td>False</td>\n",
       "    </tr>\n",
       "  </tbody>\n",
       "</table>\n",
       "</div>"
      ],
      "text/plain": [
       "  candidate  qualify\n",
       "0       bob     True\n",
       "1     Alice    False\n",
       "2   stephen    False"
      ]
     },
     "execution_count": 215,
     "metadata": {},
     "output_type": "execute_result"
    }
   ],
   "source": [
    "nnd"
   ]
  },
  {
   "cell_type": "code",
   "execution_count": null,
   "id": "43e24566",
   "metadata": {},
   "outputs": [],
   "source": [
    "#Q12 Write a Pandas program to remove infinite values from a given DataFrame."
   ]
  },
  {
   "cell_type": "code",
   "execution_count": null,
   "id": "42b9eda7",
   "metadata": {},
   "outputs": [
    {
     "name": "stdout",
     "output_type": "stream",
     "text": [
      "DataFrame after removing infinite values:\n",
      "    C1   C2  C3\n",
      "1  2.0  2.0   2\n",
      "2  3.0  3.0   3\n",
      "4  5.0  5.0   5\n"
     ]
    }
   ],
   "source": [
    "data = {'C1': [1, 2, 3, np.inf, 5],\n",
    "        'C2': [np.inf, 2, 3, 4, 5],\n",
    "        'C3': [1, 2, 3, 4, 5]}\n",
    "dffff = pd.DataFrame(data)\n",
    "dffff.replace([np.inf, -np.inf], np.nan, inplace=True)\n",
    "dffff.dropna(inplace=True)\n",
    "print(\"DataFrame after removing infinite values:\")\n",
    "print(dffff)"
   ]
  },
  {
   "cell_type": "code",
   "execution_count": null,
   "id": "0b087b92",
   "metadata": {},
   "outputs": [],
   "source": [
    "#Q6 Write a Pandas program to convert year-month string to dates adding a specified day of the month."
   ]
  },
  {
   "cell_type": "code",
   "execution_count": null,
   "id": "214cd947",
   "metadata": {},
   "outputs": [
    {
     "name": "stdout",
     "output_type": "stream",
     "text": [
      "DataFrame after converting year-month string to dates:\n",
      "  YearMonth       Date\n",
      "0   2003-11 2003-11-15\n",
      "1   2003-08 2003-08-15\n",
      "2   2004-12 2004-12-15\n",
      "3   2004-04 2004-04-15\n"
     ]
    }
   ],
   "source": [
    "dataf = {'YearMonth': ['2003-11', '2003-08', '2004-12', '2004-04']}\n",
    "df = pd.DataFrame(dataf)\n",
    "specified_day = 15\n",
    "df['Date'] = pd.to_datetime(df['YearMonth'] + '-' + str(specified_day), format='%Y-%m-%d')\n",
    "print(\"DataFrame after converting year-month string to dates:\")\n",
    "print(df)"
   ]
  },
  {
   "cell_type": "code",
   "execution_count": null,
   "id": "bd2fd32c",
   "metadata": {},
   "outputs": [],
   "source": []
  },
  {
   "cell_type": "code",
   "execution_count": null,
   "id": "6e0a565e",
   "metadata": {},
   "outputs": [],
   "source": []
  },
  {
   "cell_type": "code",
   "execution_count": null,
   "id": "9f21c340",
   "metadata": {},
   "outputs": [],
   "source": []
  },
  {
   "cell_type": "code",
   "execution_count": null,
   "id": "977570f5",
   "metadata": {},
   "outputs": [],
   "source": []
  },
  {
   "cell_type": "code",
   "execution_count": null,
   "id": "42300d86",
   "metadata": {},
   "outputs": [],
   "source": []
  },
  {
   "cell_type": "code",
   "execution_count": null,
   "id": "1294e162",
   "metadata": {},
   "outputs": [],
   "source": []
  },
  {
   "cell_type": "code",
   "execution_count": null,
   "id": "4ffa2c0e",
   "metadata": {},
   "outputs": [],
   "source": []
  },
  {
   "cell_type": "code",
   "execution_count": null,
   "id": "0f33c952",
   "metadata": {},
   "outputs": [],
   "source": []
  },
  {
   "cell_type": "code",
   "execution_count": null,
   "id": "27fd9eb3",
   "metadata": {},
   "outputs": [],
   "source": []
  },
  {
   "cell_type": "code",
   "execution_count": null,
   "id": "949c7d07",
   "metadata": {},
   "outputs": [],
   "source": []
  },
  {
   "cell_type": "code",
   "execution_count": null,
   "id": "96b53051",
   "metadata": {},
   "outputs": [],
   "source": []
  },
  {
   "cell_type": "code",
   "execution_count": null,
   "id": "7b466a80",
   "metadata": {},
   "outputs": [],
   "source": []
  },
  {
   "cell_type": "code",
   "execution_count": null,
   "id": "e33a49b3",
   "metadata": {},
   "outputs": [],
   "source": []
  },
  {
   "cell_type": "code",
   "execution_count": null,
   "id": "49ad25b7",
   "metadata": {},
   "outputs": [],
   "source": []
  },
  {
   "cell_type": "code",
   "execution_count": null,
   "id": "e4e4100f",
   "metadata": {},
   "outputs": [],
   "source": []
  }
 ],
 "metadata": {
  "kernelspec": {
   "display_name": "Python 3 (ipykernel)",
   "language": "python",
   "name": "python3"
  },
  "language_info": {
   "codemirror_mode": {
    "name": "ipython",
    "version": 3
   },
   "file_extension": ".py",
   "mimetype": "text/x-python",
   "name": "python",
   "nbconvert_exporter": "python",
   "pygments_lexer": "ipython3",
   "version": "3.10.11"
  }
 },
 "nbformat": 4,
 "nbformat_minor": 5
}
